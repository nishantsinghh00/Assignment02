{
  "nbformat": 4,
  "nbformat_minor": 0,
  "metadata": {
    "colab": {
      "provenance": []
    },
    "kernelspec": {
      "name": "python3",
      "display_name": "Python 3"
    },
    "language_info": {
      "name": "python"
    }
  },
  "cells": [
    {
      "cell_type": "markdown",
      "source": [
        "1. write a simple program in HTML that display the heading \"HTML defines the content and structue of your website\"on the web browser?"
      ],
      "metadata": {
        "id": "52rAZ9Sek0Di"
      }
    },
    {
      "cell_type": "code",
      "execution_count": null,
      "metadata": {
        "collapsed": true,
        "id": "KsaKDTFfiA68"
      },
      "outputs": [],
      "source": [
        "\n",
        "<!DOCTYPE html>\n",
        "<html lang=\"en\">\n",
        "<head>\n",
        "    <meta charset=\"UTF-8\">\n",
        "    <meta name=\"viewport\" content=\"width=device-width, initial-scale=1.0\">\n",
        "    <title>Document</title>\n",
        "</head>\n",
        "<body>\n",
        "<h1><b>HTML defines the content and structue of your website</b></h1>\n",
        "\n",
        "</body>\n",
        "</html>"
      ]
    },
    {
      "cell_type": "markdown",
      "source": [
        "2. Explain the purpose of comments in HTML and provide an example how to use comments in an HTML document?\n",
        "- The purpose of comment are to make our code more readiable and understing.The comments dont recognise by webbrowser its only show in text editor.We use comment to explain what our code and function do to the viewer.We use <!- elment--> to write comments.I give one less - before element because if i give it it does not showe you.There are two types;\n",
        "   1 single line comment 2 multiline comments"
      ],
      "metadata": {
        "id": "BbmorNYPkynM"
      }
    },
    {
      "cell_type": "code",
      "source": [
        "<!DOCTYPE html>\n",
        "<html lang=\"en\">\n",
        "<head>\n",
        "    <meta charset=\"UTF-8\">\n",
        "    <meta name=\"viewport\" content=\"width=device-width, initial-scale=1.0\">\n",
        "    <title>Document</title>\n",
        "</head>\n",
        "<body>\n",
        "<!-- types of heading in HTML -->\n",
        "<h1>h1 type heading</h1>\n",
        "<h2>h2 type heading</h2>\n",
        "<h3>h3 type heading</h3>\n",
        "<h4>h4 type heading</h4>\n",
        "<h5>h5 type heading</h5>\n",
        "<h6>h6 type heading</h6>\n",
        "\n",
        "</body>\n",
        "</html>"
      ],
      "metadata": {
        "id": "3W9IhYSQi-1g"
      },
      "execution_count": null,
      "outputs": []
    },
    {
      "cell_type": "markdown",
      "source": [
        "3. Write an HTML program that includes a heading,a paragraph of text,a horizontal line and a line break.Arrange these to create a simple web page layout?"
      ],
      "metadata": {
        "id": "9pNtfwa2pAws"
      }
    },
    {
      "cell_type": "code",
      "source": [
        "<!DOCTYPE html>\n",
        "<html lang=\"en\">\n",
        "<head>\n",
        "    <meta charset=\"UTF-8\">\n",
        "    <meta name=\"viewport\" content=\"width=device-width, initial-scale=1.0\">\n",
        "    <title>Document</title>\n",
        "</head>\n",
        "<body>\n",
        "    <main>\n",
        "        <h1><b><center>Web development</center></b></h1>\n",
        "        <hr>\n",
        "        <p><b>Web development</b> is the work involved in developing a website for the Internet (World Wide Web) or an intranet (a private network).[1] Web development can range from developing a simple single static page of plain text to complex web applications, electronic businesses, and social network services. A more comprehensive list of tasks to which Web development commonly refers, may include Web engineering, Web design, Web content development, client liaison, client-side/server-side scripting, Web server and network security configuration, and e-commerce development.</p>\n",
        "        <p>Among Web professionals, \"Web development\" usually refers to the main non-design aspects of building Web sites: writing markup and coding.</p>\n",
        "         <br>\n",
        "          [2] Web development may use content management systems (CMS) to make content changes easier and available with basic technical skills.\n",
        "        <h2><b>Evolution of the World Wide Web and web development</b></h2>\n",
        "        <hr>\n",
        "        <h3><b>Origin/ Web 1.0</b></h3>\n",
        "        <p>The primary goal in the development of the Web was to fulfill the automated information-sharing needs of academics affiliated with institutions and various global organizations. Consequently, HTML was developed in 1993.[6]</p>\n",
        "    </main>\n",
        "</body>\n",
        "</html>"
      ],
      "metadata": {
        "id": "2eea1EF_Pd6g"
      },
      "execution_count": null,
      "outputs": []
    },
    {
      "cell_type": "markdown",
      "source": [
        "4. Write a short note on Tag and element with an example.\n",
        "  -  TAG:\n",
        "        Tag is an element that anclosed within anbracket(<>).Tag tells the browser how to display the content.Tag hellps us to define structure of content how to show in browser.There are two types of tags;1 Self closing tag , 2 Non self closing tag.\n",
        "   - Self closing tag: In this tags we dont need closing tag.Ex=img tag(<img ----->).\n",
        "   - Non self closing tag: In this tags we need opening tag and closing tag.Ex=heading tag(<h1-----/h1>).I dont put closing bracket in example because if i put it behaves like h1 heading tag.\n",
        "   -  Element:\n",
        "         the combination of tag and content is called element.\n",
        "         like <img(tag)---(content)---->this complete combination is called element.\n"
      ],
      "metadata": {
        "id": "0effiSO2UacV"
      }
    },
    {
      "cell_type": "markdown",
      "source": [
        "5. What is the DOCTYPE Declaration in HTML?\n",
        "  -  DOCTYPE Declaration is used to tell which verion of HTML is used in document.It must written at the top of every HTML document before the html tag.It tells the browser how to read and display the webpage.It is not tag it is declaration.Helps the broweser to render the page correctly."
      ],
      "metadata": {
        "id": "RzWUwyxOsxmQ"
      }
    },
    {
      "cell_type": "code",
      "source": [],
      "metadata": {
        "id": "n8gtwDsomJOZ"
      },
      "execution_count": null,
      "outputs": []
    },
    {
      "cell_type": "code",
      "source": [],
      "metadata": {
        "id": "tST-cAERn1cY"
      },
      "execution_count": null,
      "outputs": []
    },
    {
      "cell_type": "markdown",
      "source": [],
      "metadata": {
        "id": "tqe_OH7CmFln"
      }
    }
  ]
}